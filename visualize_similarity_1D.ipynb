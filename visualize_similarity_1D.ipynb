{
 "cells": [
  {
   "cell_type": "code",
   "execution_count": 1,
   "metadata": {},
   "outputs": [],
   "source": [
    "import pandas as pd\n",
    "import seaborn as sns\n",
    "import matplotlib.pyplot as plt"
   ]
  },
  {
   "cell_type": "code",
   "execution_count": 2,
   "metadata": {},
   "outputs": [],
   "source": [
    "product_data_id = 'MLM1000_1000'\n",
    "similarity_type = 'thumbnail'\n",
    "df = pd.read_csv(f'./data_warehouse/{similarity_type}_similarity/{similarity_type}_similarity_{product_data_id}.csv')"
   ]
  },
  {
   "cell_type": "code",
   "execution_count": 3,
   "metadata": {},
   "outputs": [
    {
     "data": {
      "text/html": [
       "<div>\n",
       "<style scoped>\n",
       "    .dataframe tbody tr th:only-of-type {\n",
       "        vertical-align: middle;\n",
       "    }\n",
       "\n",
       "    .dataframe tbody tr th {\n",
       "        vertical-align: top;\n",
       "    }\n",
       "\n",
       "    .dataframe thead th {\n",
       "        text-align: right;\n",
       "    }\n",
       "</style>\n",
       "<table border=\"1\" class=\"dataframe\">\n",
       "  <thead>\n",
       "    <tr style=\"text-align: right;\">\n",
       "      <th></th>\n",
       "      <th>domain_id</th>\n",
       "      <th>catalog_product_id_x</th>\n",
       "      <th>catalog_product_id_y</th>\n",
       "      <th>semantic_string_x</th>\n",
       "      <th>semantic_string_y</th>\n",
       "      <th>brand_x</th>\n",
       "      <th>brand_y</th>\n",
       "      <th>similarity_score</th>\n",
       "    </tr>\n",
       "  </thead>\n",
       "  <tbody>\n",
       "    <tr>\n",
       "      <th>117924</th>\n",
       "      <td>MLM-HEADPHONES</td>\n",
       "      <td>MLM25915118</td>\n",
       "      <td>MLM29599699</td>\n",
       "      <td>Audífonos Gamer Bluetooth Inalámbricos P9 Mode...</td>\n",
       "      <td>Audífonos Inalámbrico Diadema Con Microfono Bl...</td>\n",
       "      <td>Genérica</td>\n",
       "      <td>Vulata</td>\n",
       "      <td>0.998799</td>\n",
       "    </tr>\n",
       "    <tr>\n",
       "      <th>92052</th>\n",
       "      <td>MLM-HEADPHONES</td>\n",
       "      <td>MLM29599699</td>\n",
       "      <td>MLM25915118</td>\n",
       "      <td>Audífonos Inalámbrico Diadema Con Microfono Bl...</td>\n",
       "      <td>Audífonos Gamer Bluetooth Inalámbricos P9 Mode...</td>\n",
       "      <td>Vulata</td>\n",
       "      <td>Genérica</td>\n",
       "      <td>0.998799</td>\n",
       "    </tr>\n",
       "    <tr>\n",
       "      <th>11509</th>\n",
       "      <td>MLM-AUDIO_AND_VIDEO_CABLES_AND_ADAPTERS</td>\n",
       "      <td>MLM22795819</td>\n",
       "      <td>MLM21303411</td>\n",
       "      <td>Cable De Video Hdmi 3 Metros Full Hd Xbox Lapt...</td>\n",
       "      <td>Cable Hdmi 1.5 Metros Full Hd 1080p Ps3 Xbox 3...</td>\n",
       "      <td>Genérica</td>\n",
       "      <td>Transhine</td>\n",
       "      <td>0.998171</td>\n",
       "    </tr>\n",
       "    <tr>\n",
       "      <th>95518</th>\n",
       "      <td>MLM-AUDIO_AND_VIDEO_CABLES_AND_ADAPTERS</td>\n",
       "      <td>MLM21303411</td>\n",
       "      <td>MLM22795819</td>\n",
       "      <td>Cable Hdmi 1.5 Metros Full Hd 1080p Ps3 Xbox 3...</td>\n",
       "      <td>Cable De Video Hdmi 3 Metros Full Hd Xbox Lapt...</td>\n",
       "      <td>Transhine</td>\n",
       "      <td>Genérica</td>\n",
       "      <td>0.998171</td>\n",
       "    </tr>\n",
       "    <tr>\n",
       "      <th>118081</th>\n",
       "      <td>MLM-HEADPHONES</td>\n",
       "      <td>MLM25915118</td>\n",
       "      <td>MLM28901848</td>\n",
       "      <td>Audífonos Gamer Bluetooth Inalámbricos P9 Mode...</td>\n",
       "      <td>Audífonos Inalámbrico Diadema Con Microfono Bl...</td>\n",
       "      <td>Genérica</td>\n",
       "      <td>Vulata</td>\n",
       "      <td>0.998127</td>\n",
       "    </tr>\n",
       "    <tr>\n",
       "      <th>192326</th>\n",
       "      <td>MLM-HEADPHONES</td>\n",
       "      <td>MLM28901848</td>\n",
       "      <td>MLM25915118</td>\n",
       "      <td>Audífonos Inalámbrico Diadema Con Microfono Bl...</td>\n",
       "      <td>Audífonos Gamer Bluetooth Inalámbricos P9 Mode...</td>\n",
       "      <td>Vulata</td>\n",
       "      <td>Genérica</td>\n",
       "      <td>0.998127</td>\n",
       "    </tr>\n",
       "    <tr>\n",
       "      <th>192413</th>\n",
       "      <td>MLM-HEADPHONES</td>\n",
       "      <td>MLM28901848</td>\n",
       "      <td>MLM26326121</td>\n",
       "      <td>Audífonos Inalámbrico Diadema Con Microfono Bl...</td>\n",
       "      <td>Audífonos Gamer Inalámbricos Sw-ahead Audífono...</td>\n",
       "      <td>Vulata</td>\n",
       "      <td>SW-AHEAD</td>\n",
       "      <td>0.989249</td>\n",
       "    </tr>\n",
       "    <tr>\n",
       "      <th>173718</th>\n",
       "      <td>MLM-HEADPHONES</td>\n",
       "      <td>MLM26326121</td>\n",
       "      <td>MLM28901848</td>\n",
       "      <td>Audífonos Gamer Inalámbricos Sw-ahead Audífono...</td>\n",
       "      <td>Audífonos Inalámbrico Diadema Con Microfono Bl...</td>\n",
       "      <td>SW-AHEAD</td>\n",
       "      <td>Vulata</td>\n",
       "      <td>0.989249</td>\n",
       "    </tr>\n",
       "    <tr>\n",
       "      <th>92139</th>\n",
       "      <td>MLM-HEADPHONES</td>\n",
       "      <td>MLM29599699</td>\n",
       "      <td>MLM26326121</td>\n",
       "      <td>Audífonos Inalámbrico Diadema Con Microfono Bl...</td>\n",
       "      <td>Audífonos Gamer Inalámbricos Sw-ahead Audífono...</td>\n",
       "      <td>Vulata</td>\n",
       "      <td>SW-AHEAD</td>\n",
       "      <td>0.988886</td>\n",
       "    </tr>\n",
       "    <tr>\n",
       "      <th>173561</th>\n",
       "      <td>MLM-HEADPHONES</td>\n",
       "      <td>MLM26326121</td>\n",
       "      <td>MLM29599699</td>\n",
       "      <td>Audífonos Gamer Inalámbricos Sw-ahead Audífono...</td>\n",
       "      <td>Audífonos Inalámbrico Diadema Con Microfono Bl...</td>\n",
       "      <td>SW-AHEAD</td>\n",
       "      <td>Vulata</td>\n",
       "      <td>0.988886</td>\n",
       "    </tr>\n",
       "  </tbody>\n",
       "</table>\n",
       "</div>"
      ],
      "text/plain": [
       "                                      domain_id catalog_product_id_x  \\\n",
       "117924                           MLM-HEADPHONES          MLM25915118   \n",
       "92052                            MLM-HEADPHONES          MLM29599699   \n",
       "11509   MLM-AUDIO_AND_VIDEO_CABLES_AND_ADAPTERS          MLM22795819   \n",
       "95518   MLM-AUDIO_AND_VIDEO_CABLES_AND_ADAPTERS          MLM21303411   \n",
       "118081                           MLM-HEADPHONES          MLM25915118   \n",
       "192326                           MLM-HEADPHONES          MLM28901848   \n",
       "192413                           MLM-HEADPHONES          MLM28901848   \n",
       "173718                           MLM-HEADPHONES          MLM26326121   \n",
       "92139                            MLM-HEADPHONES          MLM29599699   \n",
       "173561                           MLM-HEADPHONES          MLM26326121   \n",
       "\n",
       "       catalog_product_id_y  \\\n",
       "117924          MLM29599699   \n",
       "92052           MLM25915118   \n",
       "11509           MLM21303411   \n",
       "95518           MLM22795819   \n",
       "118081          MLM28901848   \n",
       "192326          MLM25915118   \n",
       "192413          MLM26326121   \n",
       "173718          MLM28901848   \n",
       "92139           MLM26326121   \n",
       "173561          MLM29599699   \n",
       "\n",
       "                                        semantic_string_x  \\\n",
       "117924  Audífonos Gamer Bluetooth Inalámbricos P9 Mode...   \n",
       "92052   Audífonos Inalámbrico Diadema Con Microfono Bl...   \n",
       "11509   Cable De Video Hdmi 3 Metros Full Hd Xbox Lapt...   \n",
       "95518   Cable Hdmi 1.5 Metros Full Hd 1080p Ps3 Xbox 3...   \n",
       "118081  Audífonos Gamer Bluetooth Inalámbricos P9 Mode...   \n",
       "192326  Audífonos Inalámbrico Diadema Con Microfono Bl...   \n",
       "192413  Audífonos Inalámbrico Diadema Con Microfono Bl...   \n",
       "173718  Audífonos Gamer Inalámbricos Sw-ahead Audífono...   \n",
       "92139   Audífonos Inalámbrico Diadema Con Microfono Bl...   \n",
       "173561  Audífonos Gamer Inalámbricos Sw-ahead Audífono...   \n",
       "\n",
       "                                        semantic_string_y    brand_x  \\\n",
       "117924  Audífonos Inalámbrico Diadema Con Microfono Bl...   Genérica   \n",
       "92052   Audífonos Gamer Bluetooth Inalámbricos P9 Mode...     Vulata   \n",
       "11509   Cable Hdmi 1.5 Metros Full Hd 1080p Ps3 Xbox 3...   Genérica   \n",
       "95518   Cable De Video Hdmi 3 Metros Full Hd Xbox Lapt...  Transhine   \n",
       "118081  Audífonos Inalámbrico Diadema Con Microfono Bl...   Genérica   \n",
       "192326  Audífonos Gamer Bluetooth Inalámbricos P9 Mode...     Vulata   \n",
       "192413  Audífonos Gamer Inalámbricos Sw-ahead Audífono...     Vulata   \n",
       "173718  Audífonos Inalámbrico Diadema Con Microfono Bl...   SW-AHEAD   \n",
       "92139   Audífonos Gamer Inalámbricos Sw-ahead Audífono...     Vulata   \n",
       "173561  Audífonos Inalámbrico Diadema Con Microfono Bl...   SW-AHEAD   \n",
       "\n",
       "          brand_y  similarity_score  \n",
       "117924     Vulata          0.998799  \n",
       "92052    Genérica          0.998799  \n",
       "11509   Transhine          0.998171  \n",
       "95518    Genérica          0.998171  \n",
       "118081     Vulata          0.998127  \n",
       "192326   Genérica          0.998127  \n",
       "192413   SW-AHEAD          0.989249  \n",
       "173718     Vulata          0.989249  \n",
       "92139    SW-AHEAD          0.988886  \n",
       "173561     Vulata          0.988886  "
      ]
     },
     "execution_count": 3,
     "metadata": {},
     "output_type": "execute_result"
    }
   ],
   "source": [
    "#similarity_df[similarity_df['similarity_score']<0.99].sort_values(by='similarity_score',ascending=False).head(10)\n",
    "different_product_index = df['catalog_product_id_x']!=df['catalog_product_id_y']\n",
    "different_brand_index = df['brand_x']!=df['brand_y']\n",
    "\n",
    "df_a = df[different_product_index & different_brand_index]\n",
    "df_a.sort_values(by='similarity_score',ascending=False).head(10)"
   ]
  },
  {
   "cell_type": "code",
   "execution_count": 4,
   "metadata": {},
   "outputs": [
    {
     "data": {
      "image/png": "[encoded data removed]",
      "text/plain": [
       "<Figure size 432x288 with 1 Axes>"
      ]
     },
     "metadata": {
      "needs_background": "light"
     },
     "output_type": "display_data"
    }
   ],
   "source": [
    "# Create histogram using seaborn\n",
    "sns.histplot(data=df_a, x='similarity_score', bins=20)\n",
    "plt.title(f'Histogram of {similarity_type} similarity Scores')\n",
    "plt.xlabel('Similarity Score')\n",
    "plt.ylabel('Frequency')\n",
    "plt.show()"
   ]
  },
  {
   "cell_type": "code",
   "execution_count": 5,
   "metadata": {},
   "outputs": [
    {
     "data": {
      "image/png": "[encoded data removed]",
      "text/plain": [
       "<Figure size 1728x432 with 5 Axes>"
      ]
     },
     "metadata": {
      "needs_background": "light"
     },
     "output_type": "display_data"
    }
   ],
   "source": [
    "top_domains = df_a['domain_id'].value_counts().head(5)\n",
    "df_b = df_a[df_a['domain_id'].isin(top_domains.index)]\n",
    "\n",
    "# Initialize the FacetGrid object with sharey=False\n",
    "pal = sns.color_palette(\"deep\")\n",
    "g = sns.FacetGrid(df_b, row=\"domain_id\", hue=\"domain_id\", aspect=20, height=1.2, palette=pal, sharey=False)\n",
    "\n",
    "# Draw the histograms\n",
    "g.map(sns.histplot, \"similarity_score\", bins=30)\n",
    "\n",
    "# Define and use a simple function to label the plot in axes coordinates\n",
    "def label(x, color, label):\n",
    "    ax = plt.gca()\n",
    "    ax.text(-0.8, .2, label, fontweight=\"bold\", color=color,\n",
    "            ha=\"left\", va=\"center\", transform=ax.transAxes)\n",
    "\n",
    "g.map(label, \"similarity_score\")\n",
    "\n",
    "# Set the subplots to overlap\n",
    "g.figure.subplots_adjust(hspace=-.25)\n",
    "#g.title(f'Histogram of {similarity_type} similarity Scores')\n",
    "\n",
    "# Remove axes details that don't play well with overlap\n",
    "g.set_titles(\"\")\n",
    "g.set(yticks=[], ylabel=\"\")\n",
    "g.despine(bottom=True, left=True)\n",
    "\n",
    "plt.show()\n"
   ]
  },
  {
   "cell_type": "code",
   "execution_count": 6,
   "metadata": {},
   "outputs": [
    {
     "data": {
      "text/plain": [
       "MLM-HEADPHONES                             89770\n",
       "MLM-SPEAKERS                               57734\n",
       "MLM-TELEVISIONS                            15512\n",
       "MLM-SMART_SPEAKERS                         15350\n",
       "MLM-AUDIO_AND_VIDEO_CABLES_AND_ADAPTERS      752\n",
       "MLM-STREAMING_MEDIA_DEVICES                  446\n",
       "MLM-CELL_BATTERIES                           402\n",
       "MLM-MICROPHONES                              228\n",
       "MLM-SOUND_CONSOLES_AND_MIXERS                118\n",
       "MLM-DRONES                                    96\n",
       "MLM-PROJECTORS                                64\n",
       "MLM-LED_STAGE_LIGHTS                          60\n",
       "MLM-HOME_THEATERS                             34\n",
       "MLM-TV_AND_MONITOR_MOUNTS                     30\n",
       "MLM-BATTERY_AND_CELL_BATTERIES_CHARGERS       30\n",
       "MLM-SPEAKERS_STANDS                            6\n",
       "MLM-TV_ANTENNAS                                6\n",
       "MLM-MEGAPHONES                                 4\n",
       "MLM-MINI_COMPONENT_SYSTEMS                     4\n",
       "MLM-EMBEDDED_SWITCH_MODE_POWER_SUPPLIES        2\n",
       "MLM-AUDIO_CROSSOVERS                           2\n",
       "MLM-POWER_INVERTERS                            2\n",
       "Name: domain_id, dtype: int64"
      ]
     },
     "execution_count": 6,
     "metadata": {},
     "output_type": "execute_result"
    }
   ],
   "source": [
    "df_a['domain_id'].value_counts()"
   ]
  },
  {
   "cell_type": "code",
   "execution_count": 9,
   "metadata": {},
   "outputs": [
    {
     "data": {
      "image/png": "[encoded data removed]",
      "text/plain": [
       "<Figure size 1728x1728 with 20 Axes>"
      ]
     },
     "metadata": {
      "needs_background": "light"
     },
     "output_type": "display_data"
    }
   ],
   "source": [
    "top_brands = df_a['brand_x'].value_counts().head(20)\n",
    "df_c = df_a[df_a['brand_x'].isin(top_brands.index)]\n",
    "\n",
    "# Initialize the FacetGrid object with sharey=False\n",
    "pal = sns.color_palette(\"deep\")\n",
    "g = sns.FacetGrid(df_c, row=\"brand_x\", hue=\"brand_x\", aspect=20, height=1.2, palette=pal, sharey=False)\n",
    "\n",
    "# Draw the histograms\n",
    "g.map(sns.histplot, \"similarity_score\", bins=30)\n",
    "\n",
    "# Define and use a simple function to label the plot in axes coordinates\n",
    "def label(x, color, label):\n",
    "    ax = plt.gca()\n",
    "    ax.text(-0.8, .2, label, fontweight=\"bold\", color=color,\n",
    "            ha=\"left\", va=\"center\", transform=ax.transAxes)\n",
    "\n",
    "g.map(label, \"similarity_score\")\n",
    "\n",
    "# Set the subplots to overlap\n",
    "g.figure.subplots_adjust(hspace=-.25)\n",
    "#g.title(f'Histogram of {similarity_type} similarity Scores')\n",
    "\n",
    "# Remove axes details that don't play well with overlap\n",
    "g.set_titles(\"\")\n",
    "g.set(yticks=[], ylabel=\"\")\n",
    "g.despine(bottom=True, left=True)\n",
    "\n",
    "plt.show()"
   ]
  },
  {
   "cell_type": "code",
   "execution_count": null,
   "metadata": {},
   "outputs": [],
   "source": []
  }
 ],
 "metadata": {
  "kernelspec": {
   "display_name": "Python 3",
   "language": "python",
   "name": "python3"
  },
  "language_info": {
   "codemirror_mode": {
    "name": "ipython",
    "version": 3
   },
   "file_extension": ".py",
   "mimetype": "text/x-python",
   "name": "python",
   "nbconvert_exporter": "python",
   "pygments_lexer": "ipython3",
   "version": "3.8.3"
  }
 },
 "nbformat": 4,
 "nbformat_minor": 2
}
